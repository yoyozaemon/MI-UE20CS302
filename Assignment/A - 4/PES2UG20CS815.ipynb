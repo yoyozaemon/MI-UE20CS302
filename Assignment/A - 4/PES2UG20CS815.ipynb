{
  "cells": [
    {
      "cell_type": "markdown",
      "metadata": {
        "id": "gFtOs6KZbBe5"
      },
      "source": []
    },
    {
      "cell_type": "code",
      "execution_count": null,
      "metadata": {
        "id": "DLE_FHI6bBe9"
      },
      "outputs": [],
      "source": [
        "import numpy\n",
        "data_inputs = numpy.array([[1, 1],\n",
        "                           [1, 0],\n",
        "                           [0, 1],\n",
        "                           [0, 0]])\n",
        "data_outputs = numpy.array([0, \n",
        "                            1, \n",
        "                            1, \n",
        "                            0])"
      ]
    },
    {
      "cell_type": "markdown",
      "metadata": {
        "id": "RvpqkhpkbBe_"
      },
      "source": []
    },
    {
      "cell_type": "code",
      "execution_count": null,
      "metadata": {
        "colab": {
          "base_uri": "https://localhost:8080/"
        },
        "id": "VQCLFOG4bBfA",
        "outputId": "c55b75bb-7cb5-4184-8df2-f480be686d37"
      },
      "outputs": [
        {
          "output_type": "stream",
          "name": "stdout",
          "text": [
            "Looking in indexes: https://pypi.org/simple, https://us-python.pkg.dev/colab-wheels/public/simple/\n",
            "Collecting pygad\n",
            "  Downloading pygad-2.18.1-py3-none-any.whl (56 kB)\n",
            "\u001b[K     |████████████████████████████████| 56 kB 2.6 MB/s \n",
            "\u001b[?25hRequirement already satisfied: matplotlib in /usr/local/lib/python3.7/dist-packages (from pygad) (3.2.2)\n",
            "Requirement already satisfied: numpy in /usr/local/lib/python3.7/dist-packages (from pygad) (1.21.6)\n",
            "Requirement already satisfied: pyparsing!=2.0.4,!=2.1.2,!=2.1.6,>=2.0.1 in /usr/local/lib/python3.7/dist-packages (from matplotlib->pygad) (3.0.9)\n",
            "Requirement already satisfied: python-dateutil>=2.1 in /usr/local/lib/python3.7/dist-packages (from matplotlib->pygad) (2.8.2)\n",
            "Requirement already satisfied: cycler>=0.10 in /usr/local/lib/python3.7/dist-packages (from matplotlib->pygad) (0.11.0)\n",
            "Requirement already satisfied: kiwisolver>=1.0.1 in /usr/local/lib/python3.7/dist-packages (from matplotlib->pygad) (1.4.4)\n",
            "Requirement already satisfied: typing-extensions in /usr/local/lib/python3.7/dist-packages (from kiwisolver>=1.0.1->matplotlib->pygad) (4.1.1)\n",
            "Requirement already satisfied: six>=1.5 in /usr/local/lib/python3.7/dist-packages (from python-dateutil>=2.1->matplotlib->pygad) (1.15.0)\n",
            "Installing collected packages: pygad\n",
            "Successfully installed pygad-2.18.1\n"
          ]
        }
      ],
      "source": [
        "pip install pygad"
      ]
    },
    {
      "cell_type": "code",
      "execution_count": null,
      "metadata": {
        "id": "iPI1Z92_bBfA"
      },
      "outputs": [],
      "source": [
        "import pygad.gann\n",
        "GANN_instance = pygad.gann.GANN(num_solutions=10,\n",
        "                                num_neurons_input=2,\n",
        "                                num_neurons_hidden_layers=[2],\n",
        "                                num_neurons_output=2,\n",
        "                                hidden_activations=[\"relu\"],\n",
        "                                output_activation=\"softmax\")"
      ]
    },
    {
      "cell_type": "code",
      "execution_count": null,
      "metadata": {
        "colab": {
          "base_uri": "https://localhost:8080/"
        },
        "id": "WpCnmiKsbBfB",
        "outputId": "cc21a9b8-1e33-400c-9dbc-5448093b2a8d"
      },
      "outputs": [
        {
          "output_type": "stream",
          "name": "stdout",
          "text": [
            "[<pygad.nn.nn.DenseLayer object at 0x7f6e499cc910>, <pygad.nn.nn.DenseLayer object at 0x7f6e499c5210>, <pygad.nn.nn.DenseLayer object at 0x7f6e499c5cd0>, <pygad.nn.nn.DenseLayer object at 0x7f6e499c5f10>, <pygad.nn.nn.DenseLayer object at 0x7f6e499d3050>, <pygad.nn.nn.DenseLayer object at 0x7f6e499e0150>, <pygad.nn.nn.DenseLayer object at 0x7f6e499e0410>, <pygad.nn.nn.DenseLayer object at 0x7f6e499e04d0>, <pygad.nn.nn.DenseLayer object at 0x7f6e499e0590>, <pygad.nn.nn.DenseLayer object at 0x7f6e499e0610>]\n"
          ]
        }
      ],
      "source": [
        "print(GANN_instance.population_networks)"
      ]
    },
    {
      "cell_type": "code",
      "execution_count": null,
      "metadata": {
        "colab": {
          "base_uri": "https://localhost:8080/"
        },
        "id": "sk2v2GFObBfB",
        "outputId": "20068d7b-e4df-496e-c45f-f6997e0f19fc"
      },
      "outputs": [
        {
          "output_type": "stream",
          "name": "stdout",
          "text": [
            "[array([ 0.01232519, -0.08328414,  0.0899503 ,  0.00821192,  0.01245127,\n",
            "        0.09764267,  0.0176425 , -0.01658563]), array([-0.04916328, -0.02107455,  0.04681263, -0.04301151, -0.01977242,\n",
            "        0.00920628, -0.06692007, -0.06694847]), array([ 0.07668438,  0.06990861, -0.03183949, -0.06945869,  0.05456241,\n",
            "       -0.07497985,  0.02847494,  0.03998888]), array([ 0.0550539 , -0.01946402, -0.00206063, -0.00633415,  0.02987866,\n",
            "        0.06546817, -0.01295753,  0.09210858]), array([ 0.06752654, -0.05721396,  0.07376065,  0.01251284,  0.00045096,\n",
            "        0.09143575, -0.0572566 ,  0.06040275]), array([ 0.04754639, -0.00098168, -0.06079357, -0.06897168,  0.03694957,\n",
            "        0.07043984, -0.0282093 , -0.0097922 ]), array([-0.074687  ,  0.06388518,  0.0711392 ,  0.08756659,  0.02814146,\n",
            "        0.00969404,  0.01088621, -0.02146027]), array([ 0.06871965,  0.00442287,  0.01102794,  0.08089348, -0.03238554,\n",
            "        0.0140686 , -0.01476177, -0.03781947]), array([ 0.05890816,  0.09175516,  0.0659307 , -0.00865716,  0.0216579 ,\n",
            "        0.04866817,  0.00713409,  0.09765292]), array([-0.03703084, -0.01510073,  0.07262177, -0.05486908, -0.01395936,\n",
            "        0.01047421, -0.04421385, -0.00827826])]\n"
          ]
        }
      ],
      "source": [
        "population_vectors = pygad.gann.population_as_vectors(population_networks=GANN_instance.population_networks)\n",
        "print(population_vectors)"
      ]
    },
    {
      "cell_type": "code",
      "execution_count": null,
      "metadata": {
        "id": "FohmpT8KbBfC"
      },
      "outputs": [],
      "source": [
        "population_vectors = population_vectors"
      ]
    },
    {
      "cell_type": "code",
      "execution_count": null,
      "metadata": {
        "id": "QLzEN1O4bBfC"
      },
      "outputs": [],
      "source": [
        "num_generations = 50"
      ]
    },
    {
      "cell_type": "code",
      "execution_count": null,
      "metadata": {
        "id": "3enoqxKjbBfD"
      },
      "outputs": [],
      "source": [
        "num_parents_mating = 3"
      ]
    },
    {
      "cell_type": "code",
      "execution_count": null,
      "metadata": {
        "id": "XaZrxUIlbBfD"
      },
      "outputs": [],
      "source": [
        "initial_population = population_vectors.copy()"
      ]
    },
    {
      "cell_type": "code",
      "execution_count": null,
      "metadata": {
        "id": "mGEv4CFjbBfD"
      },
      "outputs": [],
      "source": [
        "def fitness_function(solution, sol_idx):\n",
        "    global GANN_instance, data_inputs, data_outputs\n",
        "    predictions = pygad.nn.predict(last_layer=GANN_instance.population_networks[sol_idx],\n",
        "                                   data_inputs=data_inputs,\n",
        "                                   problem_type=\"classification\")\n",
        "    correct_predictions = numpy.where(predictions == data_outputs)[0].size\n",
        "    solution_fitness = (correct_predictions/data_outputs.size)*100\n",
        "    return solution_fitness"
      ]
    },
    {
      "cell_type": "code",
      "execution_count": null,
      "metadata": {
        "id": "ECYbzgd7bBfE"
      },
      "outputs": [],
      "source": [
        "fitness_func = fitness_function"
      ]
    },
    {
      "cell_type": "code",
      "execution_count": null,
      "metadata": {
        "id": "GxTJJe6ibBfE"
      },
      "outputs": [],
      "source": [
        "mutation_percent_genes = 5"
      ]
    },
    {
      "cell_type": "code",
      "execution_count": null,
      "metadata": {
        "id": "j7av6zBWbBfE"
      },
      "outputs": [],
      "source": [
        "import pygad.nn"
      ]
    },
    {
      "cell_type": "code",
      "execution_count": null,
      "metadata": {
        "id": "rnazYx7hbBfE"
      },
      "outputs": [],
      "source": [
        "def callback_generation(ga_instance):\n",
        "    global GANN_instance\n",
        "    population_matrices = pygad.gann.population_as_matrices(population_networks=GANN_instance.population_networks, population_vectors=ga_instance.population)\n",
        "    GANN_instance.update_population_trained_weights(population_trained_weights=population_matrices)\n",
        "    print(\"Generation = {generation}\".format(generation=ga_instance.generations_completed))\n",
        "    print(\"Accuracy   = {fitness}\".format(fitness=ga_instance.best_solution()[1]))"
      ]
    },
    {
      "cell_type": "code",
      "execution_count": null,
      "metadata": {
        "id": "DxbJJLOnbBfF"
      },
      "outputs": [],
      "source": [
        "callback_generation = callback_generation"
      ]
    },
    {
      "cell_type": "code",
      "execution_count": null,
      "metadata": {
        "colab": {
          "base_uri": "https://localhost:8080/"
        },
        "id": "L3DKgOzQbBfF",
        "outputId": "b919a452-cf25-4d65-ad6a-c41030e13764"
      },
      "outputs": [
        {
          "output_type": "stream",
          "name": "stderr",
          "text": [
            "/usr/local/lib/python3.7/dist-packages/pygad/pygad.py:503: UserWarning: The percentage of genes to mutate (mutation_percent_genes=5) resutled in selecting (0) genes. The number of genes to mutate is set to 1 (mutation_num_genes=1).\n",
            "If you do not want to mutate any gene, please set mutation_type=None.\n",
            "  if not self.suppress_warnings: warnings.warn(\"The percentage of genes to mutate (mutation_percent_genes={mutation_percent}) resutled in selecting ({mutation_num}) genes. The number of genes to mutate is set to 1 (mutation_num_genes=1).\\nIf you do not want to mutate any gene, please set mutation_type=None.\".format(mutation_percent=mutation_percent_genes, mutation_num=mutation_num_genes))\n",
            "/usr/local/lib/python3.7/dist-packages/pygad/pygad.py:764: UserWarning: Starting from PyGAD 2.6.0, the callback_generation parameter is deprecated and will be removed in a later release of PyGAD. Please use the on_generation parameter instead.\n",
            "  if not self.suppress_warnings: warnings.warn(\"Starting from PyGAD 2.6.0, the callback_generation parameter is deprecated and will be removed in a later release of PyGAD. Please use the on_generation parameter instead.\")\n"
          ]
        }
      ],
      "source": [
        "ga_instance = pygad.GA(num_generations=50, \n",
        "                       num_parents_mating=3, \n",
        "                       initial_population=population_vectors.copy(),\n",
        "                       fitness_func=fitness_func,\n",
        "                       mutation_percent_genes=5,\n",
        "                       callback_generation=callback_generation)"
      ]
    },
    {
      "cell_type": "code",
      "execution_count": null,
      "metadata": {
        "colab": {
          "base_uri": "https://localhost:8080/"
        },
        "id": "WuINdCwBbBfF",
        "outputId": "b0944de6-606c-4acc-81a8-9ce8be31966a"
      },
      "outputs": [
        {
          "output_type": "stream",
          "name": "stdout",
          "text": [
            "Generation = 1\n",
            "Accuracy   = 75.0\n",
            "Generation = 2\n",
            "Accuracy   = 75.0\n",
            "Generation = 3\n",
            "Accuracy   = 75.0\n",
            "Generation = 4\n",
            "Accuracy   = 75.0\n",
            "Generation = 5\n",
            "Accuracy   = 100.0\n",
            "Generation = 6\n",
            "Accuracy   = 100.0\n",
            "Generation = 7\n",
            "Accuracy   = 100.0\n",
            "Generation = 8\n",
            "Accuracy   = 100.0\n",
            "Generation = 9\n",
            "Accuracy   = 100.0\n",
            "Generation = 10\n",
            "Accuracy   = 100.0\n",
            "Generation = 11\n",
            "Accuracy   = 100.0\n",
            "Generation = 12\n",
            "Accuracy   = 100.0\n",
            "Generation = 13\n",
            "Accuracy   = 100.0\n",
            "Generation = 14\n",
            "Accuracy   = 100.0\n",
            "Generation = 15\n",
            "Accuracy   = 100.0\n",
            "Generation = 16\n",
            "Accuracy   = 100.0\n",
            "Generation = 17\n",
            "Accuracy   = 100.0\n",
            "Generation = 18\n",
            "Accuracy   = 100.0\n",
            "Generation = 19\n",
            "Accuracy   = 100.0\n",
            "Generation = 20\n",
            "Accuracy   = 100.0\n",
            "Generation = 21\n",
            "Accuracy   = 100.0\n",
            "Generation = 22\n",
            "Accuracy   = 100.0\n",
            "Generation = 23\n",
            "Accuracy   = 100.0\n",
            "Generation = 24\n",
            "Accuracy   = 100.0\n",
            "Generation = 25\n",
            "Accuracy   = 100.0\n",
            "Generation = 26\n",
            "Accuracy   = 100.0\n",
            "Generation = 27\n",
            "Accuracy   = 100.0\n",
            "Generation = 28\n",
            "Accuracy   = 100.0\n",
            "Generation = 29\n",
            "Accuracy   = 100.0\n",
            "Generation = 30\n",
            "Accuracy   = 100.0\n",
            "Generation = 31\n",
            "Accuracy   = 100.0\n",
            "Generation = 32\n",
            "Accuracy   = 100.0\n",
            "Generation = 33\n",
            "Accuracy   = 100.0\n",
            "Generation = 34\n",
            "Accuracy   = 100.0\n",
            "Generation = 35\n",
            "Accuracy   = 100.0\n",
            "Generation = 36\n",
            "Accuracy   = 100.0\n",
            "Generation = 37\n",
            "Accuracy   = 100.0\n",
            "Generation = 38\n",
            "Accuracy   = 100.0\n",
            "Generation = 39\n",
            "Accuracy   = 100.0\n",
            "Generation = 40\n",
            "Accuracy   = 100.0\n",
            "Generation = 41\n",
            "Accuracy   = 100.0\n",
            "Generation = 42\n",
            "Accuracy   = 100.0\n",
            "Generation = 43\n",
            "Accuracy   = 100.0\n",
            "Generation = 44\n",
            "Accuracy   = 100.0\n",
            "Generation = 45\n",
            "Accuracy   = 100.0\n",
            "Generation = 46\n",
            "Accuracy   = 100.0\n",
            "Generation = 47\n",
            "Accuracy   = 100.0\n",
            "Generation = 48\n",
            "Accuracy   = 100.0\n",
            "Generation = 49\n",
            "Accuracy   = 100.0\n",
            "Generation = 50\n",
            "Accuracy   = 100.0\n"
          ]
        }
      ],
      "source": [
        "ga_instance.run()"
      ]
    },
    {
      "cell_type": "code",
      "execution_count": null,
      "metadata": {
        "colab": {
          "base_uri": "https://localhost:8080/",
          "height": 618
        },
        "id": "f_S2MsDBbBfF",
        "outputId": "da93c3c3-4fef-4f7c-b422-ac41c3a4b713"
      },
      "outputs": [
        {
          "output_type": "stream",
          "name": "stderr",
          "text": [
            "/usr/local/lib/python3.7/dist-packages/pygad/pygad.py:3345: UserWarning: Please use the plot_fitness() method instead of plot_result(). The plot_result() method will be removed in the future.\n",
            "  warnings.warn(\"Please use the plot_fitness() method instead of plot_result(). The plot_result() method will be removed in the future.\")\n"
          ]
        },
        {
          "output_type": "display_data",
          "data": {
            "text/plain": [
              "<Figure size 432x288 with 1 Axes>"
            ],
            "image/png": "[encoded data removed]"
          },
          "metadata": {
            "needs_background": "light"
          }
        },
        {
          "output_type": "execute_result",
          "data": {
            "text/plain": [
              "<Figure size 432x288 with 1 Axes>"
            ],
            "image/png": "[encoded data removed]"
          },
          "metadata": {},
          "execution_count": 19
        }
      ],
      "source": [
        "ga_instance.plot_result()"
      ]
    },
    {
      "cell_type": "code",
      "execution_count": null,
      "metadata": {
        "colab": {
          "base_uri": "https://localhost:8080/"
        },
        "id": "UjRqsiETbBfG",
        "outputId": "59c31eff-c8b8-4fdc-8098-24b30798850c"
      },
      "outputs": [
        {
          "output_type": "stream",
          "name": "stdout",
          "text": [
            "[-1.58876785  0.8521806   0.02585169 -2.18798779 -1.61611735  0.13449283\n",
            " -2.39009556  0.93820346]\n",
            "100.0\n",
            "0\n"
          ]
        }
      ],
      "source": [
        "solution, solution_fitness, solution_idx = ga_instance.best_solution()\n",
        "print(solution)\n",
        "print(solution_fitness)\n",
        "print(solution_idx)"
      ]
    },
    {
      "cell_type": "code",
      "execution_count": null,
      "metadata": {
        "colab": {
          "base_uri": "https://localhost:8080/"
        },
        "id": "REMa6_OXbBfG",
        "outputId": "afa446f4-28ea-41d3-8bb5-be04d56adf95"
      },
      "outputs": [
        {
          "output_type": "stream",
          "name": "stdout",
          "text": [
            "Predictions of the trained network : [0, 1, 1, 0]\n"
          ]
        }
      ],
      "source": [
        "predictions = pygad.nn.predict(last_layer=GANN_instance.population_networks[solution_idx],\n",
        "                               data_inputs=data_inputs,\n",
        "                              problem_type=\"classification\")\n",
        "print(\"Predictions of the trained network : {predictions}\".format(predictions=predictions))"
      ]
    }
  ],
  "metadata": {
    "kernelspec": {
      "display_name": "Python 3.10.8 64-bit (microsoft store)",
      "language": "python",
      "name": "python3"
    },
    "language_info": {
      "codemirror_mode": {
        "name": "ipython",
        "version": 3
      },
      "file_extension": ".py",
      "mimetype": "text/x-python",
      "name": "python",
      "nbconvert_exporter": "python",
      "pygments_lexer": "ipython3",
      "version": "3.10.8"
    },
    "orig_nbformat": 4,
    "vscode": {
      "interpreter": {
        "hash": "854ad7b50770bedaf0cab730b1aaabb765566ea98036f134b639e260bede141e"
      }
    },
    "colab": {
      "provenance": [],
      "collapsed_sections": []
    }
  },
  "nbformat": 4,
  "nbformat_minor": 0
}